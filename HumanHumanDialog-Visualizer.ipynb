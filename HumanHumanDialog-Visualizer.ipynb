{
 "cells": [
  {
   "cell_type": "code",
   "execution_count": 1,
   "metadata": {},
   "outputs": [],
   "source": [
    "import jsonlines\n",
    "from dialop.games import OptimizationGame\n",
    "from dialop.games.optimization import WORKERS, TASKS\n",
    "\n",
    "with jsonlines.open('data/optimization.jsonl') as jsonl_f:\n",
    "     data = [obj for obj in jsonl_f]\n",
    "data = data[:70]"
   ]
  },
  {
   "cell_type": "code",
   "execution_count": 2,
   "metadata": {},
   "outputs": [
    {
     "name": "stdout",
     "output_type": "stream",
     "text": [
      "Dialog idx: 14\n",
      "Player 1 knowledge: \n",
      "Ava Li: 125 for Electra \n",
      " Daniel Nguyen: 237 for LLaMA, 232 for SWAG \n",
      " Sofia Patel: 199 for Electra, 125 for SWAG \n",
      " Andrei Petrov: 43 for GLUE \n",
      " Morgan Reed: 120 for BLEU, 33 for GloVe, 84 for SWAG \n",
      " Joseph Santos: 224 for GloVe, 68 for GLUE, 199 for LLaMA, 17 for RoBERTa, 209 for SWAG \n",
      " Ethan Smith: 84 for GloVe, 212 for QuAC, 40 for SWAG \n",
      " Noah Wilson: 74 for Electra, 12 for GLUE, 40 for RoBERTa \n",
      " \n",
      "Player 2 knowledge: \n",
      "Ava Li: BLEU:159, GLUE:304, RoBERTa:206 \n",
      " Daniel Nguyen: Electra:186, GLUE:23, LLaMA:314, RoBERTa:145, QuAC:142 \n",
      " Sofia Patel: Electra:263, GloVe:43, LLaMA:6, QuAC:135 \n",
      " Andrei Petrov: BLEU:290, QuAC:311 \n",
      " Morgan Reed: GLUE:30, SWAG:111 \n",
      " Joseph Santos: BLEU:203, Electra:196, QuAC:94 \n",
      " Ethan Smith: GloVe:111, RoBERTa:159 \n",
      " Noah Wilson: Electra:98, GLUE:16, SWAG:6 \n",
      " \n",
      "-------------------------------------------------- CONVERSATION --------------------------------------------------\n",
      "Player 2: Hey!\n",
      "Player 1: Hi\n",
      "Player 2: Can you help me with few suggestions for reviewers\n",
      "Player 1: waiting for your table.\n",
      "Player 2: that I am about to send\n",
      "Player 1: Can you send it to me, I am bit occupied rightn ow\n",
      "Player 2: Proposal:\n",
      " - BLEU: Joseph Santos\n",
      " - Electra: Sofia Patel\n",
      " - GLUE: Ava Li\n",
      " - GloVe: Ethan Smith\n",
      " - LLaMA: Daniel Nguyen\n",
      " - QuAC: Andrei Petrov\n",
      " - RoBERTa: Noah Wilson\n",
      " - SWAG: Morgan Reed\n",
      "Player 1: REJECT\n",
      "Player 1: Oh you got me to work now. I would need some other schedule. I prefer having Ethan for QUAC. and Noah probably for Bleu\n",
      "Player 2: What do you think can be a better one?\n",
      "Player 1: Proposal:\n",
      " - BLEU: Noah Wilson\n",
      " - Electra: Sofia Patel\n",
      " - GLUE: Morgan Reed\n",
      " - GloVe: Joseph Santos\n",
      " - LLaMA: Daniel Nguyen\n",
      " - QuAC: Ethan Smith\n",
      " - RoBERTa: Andrei Petrov\n",
      " - SWAG: Ava Li\n",
      "Player 2: REJECT\n",
      "Player 1: hmm\n",
      "Player 2: Can we bring back Ava to Glue and Andrei to QuAc? / Rest looks good.\n",
      "Player 1: Proposal:\n",
      " - BLEU: Morgan Reed\n",
      " - Electra: Sofia Patel\n",
      " - GLUE: Ava Li\n",
      " - GloVe: Joseph Santos\n",
      " - LLaMA: Daniel Nguyen\n",
      " - QuAC: Andrei Petrov\n",
      " - RoBERTa: Ethan Smith\n",
      " - SWAG: Noah Wilson\n",
      "Player 2: ACCEPT\n",
      "----------------------------------------------------------------------------------------------------\n",
      "\n",
      "FINAL PROPOSAL:\n",
      "BLEU: Morgan Reed (47)\n",
      "Electra: Sofia Patel (78)\n",
      "GloVe: Joseph Santos (88)\n",
      "GLUE: Ava Li (90)\n",
      "LLaMA: Daniel Nguyen (93)\n",
      "RoBERTa: Ethan Smith (47)\n",
      "QuAC: Andrei Petrov (92)\n",
      "SWAG: Noah Wilson (2)\n",
      "Proposal reward = 537\n",
      "\n",
      "OPTIMAL ASSIGNMENT:\n",
      "BLEU: Andrei Petrov (86)\n",
      "Electra: Sofia Patel (78)\n",
      "GloVe: Joseph Santos (88)\n",
      "GLUE: Ava Li (90)\n",
      "LLaMA: Noah Wilson (50)\n",
      "RoBERTa: Morgan Reed (50)\n",
      "QuAC: Ethan Smith (83)\n",
      "SWAG: Daniel Nguyen (91)\n",
      "Best possible reward = 616\n"
     ]
    }
   ],
   "source": [
    "import random\n",
    "idx = random.randint(0, len(data))\n",
    "\n",
    "def stringify_proposal(assignment):\n",
    "    assignment.sort(key=lambda x: x[1])\n",
    "    out_str = \"\"\n",
    "    out_str = '\\n'.join([f\"{TASKS[a[1]]}: {WORKERS[a[0]]} ({game.table.values[a[0]][a[1]]})\" for a in assignment])\n",
    "    return out_str\n",
    "\n",
    "d = data[idx]\n",
    "print(f\"Dialog idx: {idx}\")\n",
    "\n",
    "game = OptimizationGame.create_from_game_state(d)\n",
    "\n",
    "table = game.tables[0]\n",
    "obs_string = \"Player 1 knowledge: \\n\" \n",
    "for row in table[1:]:\n",
    "    obs_string += row[0] + \": \"\n",
    "    obs_string += ', '.join([f\"{c} for {TASKS[i]}\" for i, c in enumerate(row[1:]) if type(c) == int])\n",
    "    obs_string += \" \\n \"\n",
    "print(obs_string)\n",
    "\n",
    "table = game.tables[1]\n",
    "obs_string = \"Player 2 knowledge: \\n\" \n",
    "for row in table[1:]:\n",
    "    obs_string += row[0] + \": \"\n",
    "    obs_string += ', '.join([f\"{TASKS[i]}:{c}\" for i, c in enumerate(row[1:]) if type(c) == int])\n",
    "    obs_string += \" \\n \"\n",
    "print(obs_string)\n",
    "\n",
    "print(f\"{'-'*50} CONVERSATION {'-'*50}\")\n",
    "final_proposal = None\n",
    "for a in d['action_log']:\n",
    "    output_str = f\"Player {a['player']+1}: \"\n",
    "    if a['type'] == 'message':\n",
    "        output_str += a['message']['data']\n",
    "    elif a['type'] == 'proposal':\n",
    "        output_str += a['proposal'].replace('<br/>&emsp;', '\\n')\n",
    "        final_proposal = a['proposal_ids']\n",
    "    elif a['type'] == 'proposal_response':\n",
    "        output_str += 'ACCEPT' if a['response']['accept'] else 'REJECT'\n",
    "    print(output_str)\n",
    "\n",
    "print(\"-\"*100)\n",
    "best_assignment, best_reward = game.table.find_max_value_known_assignment([d['mask1'], d['mask2']])\n",
    "print(\"\\nFINAL PROPOSAL:\")\n",
    "print(stringify_proposal(final_proposal))\n",
    "print(f\"Proposal reward = {d['proposal_reward']}\")\n",
    "print(\"\\nOPTIMAL ASSIGNMENT:\")\n",
    "print(stringify_proposal(best_assignment))\n",
    "print(f\"Best possible reward = {d['best_assignment_reward']}\")"
   ]
  },
  {
   "cell_type": "code",
   "execution_count": 3,
   "metadata": {},
   "outputs": [
    {
     "name": "stdout",
     "output_type": "stream",
     "text": [
      "0.9239836102326444 0.09391325964207785\n"
     ]
    }
   ],
   "source": [
    "import numpy as np\n",
    "scores = [d['result']['norm'] for d in data]\n",
    "print(np.average(scores), np.std(scores))"
   ]
  },
  {
   "cell_type": "code",
   "execution_count": 4,
   "metadata": {},
   "outputs": [
    {
     "name": "stdout",
     "output_type": "stream",
     "text": [
      "13.114285714285714 7.974141883332036\n"
     ]
    }
   ],
   "source": [
    "turns = [len([a  for a in d['action_log'] if a['type'] == 'message']) for d in data]\n",
    "print(np.average(turns), np.std(turns))"
   ]
  },
  {
   "cell_type": "code",
   "execution_count": 5,
   "metadata": {},
   "outputs": [
    {
     "name": "stdout",
     "output_type": "stream",
     "text": [
      "184.3 131.65543231155658\n",
      "[492, 225, 107, 269, 146, 223, 158, 64, 267, 48, 180, 619, 224, 199, 82, 174, 167, 127, 88, 484, 284, 376, 31, 49, 187, 53, 239, 402, 56, 105, 206, 254, 104, 174, 41, 257, 56, 153, 179, 137, 46, 121, 558, 86, 143, 268, 555, 154, 140, 64, 140, 89, 98, 53, 183, 151, 60, 48, 117, 217, 95, 83, 114, 326, 191, 129, 135, 376, 147, 328]\n"
     ]
    }
   ],
   "source": [
    "words = [sum([len(a['message']['data'].split(' ')) for a in d['action_log'] if a['type'] == 'message']) for d in data]\n",
    "print(np.average(words), np.std(words))\n",
    "print(words)"
   ]
  },
  {
   "cell_type": "code",
   "execution_count": null,
   "metadata": {},
   "outputs": [],
   "source": []
  }
 ],
 "metadata": {
  "kernelspec": {
   "display_name": "Python 3.10.13 ('dialop')",
   "language": "python",
   "name": "python3"
  },
  "language_info": {
   "codemirror_mode": {
    "name": "ipython",
    "version": 3
   },
   "file_extension": ".py",
   "mimetype": "text/x-python",
   "name": "python",
   "nbconvert_exporter": "python",
   "pygments_lexer": "ipython3",
   "version": "3.10.13"
  },
  "orig_nbformat": 4,
  "vscode": {
   "interpreter": {
    "hash": "1a77adf363fa91e85443a9a41867ca44c328b7c0db03a012522dd20207d3f7f8"
   }
  }
 },
 "nbformat": 4,
 "nbformat_minor": 2
}
