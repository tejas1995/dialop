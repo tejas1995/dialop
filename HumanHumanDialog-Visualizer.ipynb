{
 "cells": [
  {
   "cell_type": "code",
   "execution_count": 1,
   "metadata": {},
   "outputs": [],
   "source": [
    "import jsonlines\n",
    "from dialop.games import OptimizationGame\n",
    "from dialop.games.optimization import WORKERS, TASKS\n",
    "\n",
    "with jsonlines.open('data/optimization.jsonl') as jsonl_f:\n",
    "     data = [obj for obj in jsonl_f]\n"
   ]
  },
  {
   "cell_type": "code",
   "execution_count": 2,
   "metadata": {},
   "outputs": [],
   "source": [
    "import random\n",
    "idx = random.randint(0, len(data))\n",
    "\n",
    "def stringify_proposal(assignment):\n",
    "    assignment.sort(key=lambda x: x[1])\n",
    "    out_str = \"\"\n",
    "    out_str = '\\n'.join([f\"{TASKS[a[1]]}: {WORKERS[a[0]]}\" for a in assignment])\n",
    "    return out_str\n",
    "\n",
    "d = data[idx]\n",
    "\n",
    "game = OptimizationGame.create_from_game_state(d)\n",
    "\n",
    "table = game.tables[0]\n",
    "obs_string = \"Player 1 knowledge: \" \n",
    "for row in table[1:]:\n",
    "    obs_string += row[0] + \": \"\n",
    "    obs_string += ', '.join([f\"{c} for {TASKS[i]}\" for i, c in enumerate(row[1:]) if type(c) == int])\n",
    "    obs_string += \" \\n \"\n",
    "print(obs_string)\n",
    "\n",
    "table = game.tables[1]\n",
    "obs_string = \"Player 2 knowledge: \" \n",
    "for row in table[1:]:\n",
    "    obs_string += row[0] + \": \"\n",
    "    obs_string += ', '.join([f\"{TASKS[i]}:{c}\" for i, c in enumerate(row[1:]) if type(c) == int])\n",
    "    obs_string += \" \\n \"\n",
    "print(obs_string)\n",
    "\n",
    "print(f\"{'-'*50} CONVERSATION {'-'*50}\")\n",
    "final_proposal = None\n",
    "for a in d['action_log']:\n",
    "    output_str = f\"Player {a['player']+1}: \"\n",
    "    if a['type'] == 'message':\n",
    "        output_str += a['message']['data']\n",
    "    elif a['type'] == 'proposal':\n",
    "        output_str += a['proposal'].replace('<br/>&emsp;', '\\n')\n",
    "        final_proposal = a['proposal_ids']\n",
    "    elif a['type'] == 'proposal_response':\n",
    "        output_str += 'ACCEPT' if a['response']['accept'] else 'REJECT'\n",
    "    print(output_str)\n",
    "\n",
    "print(\"-\"*100)\n",
    "best_assignment, best_reward = game.table.find_max_value_known_assignment([d['mask1'], d['mask2']])\n",
    "print(\"\\nFINAL PROPOSAL:\")\n",
    "print(stringify_proposal(final_proposal))\n",
    "print(f\"Proposal reward = {d['proposal_reward']}\")\n",
    "print(\"\\nOPTIMAL ASSIGNMENT:\")\n",
    "print(stringify_proposal(best_assignment))\n",
    "print(f\"Best possible reward = {d['best_assignment_reward']}\")"
   ]
  },
  {
   "cell_type": "code",
   "execution_count": null,
   "metadata": {},
   "outputs": [],
   "source": []
  }
 ],
 "metadata": {
  "kernelspec": {
   "display_name": "Python 3.10.13 ('dialop')",
   "language": "python",
   "name": "python3"
  },
  "language_info": {
   "codemirror_mode": {
    "name": "ipython",
    "version": 3
   },
   "file_extension": ".py",
   "mimetype": "text/x-python",
   "name": "python",
   "nbconvert_exporter": "python",
   "pygments_lexer": "ipython3",
   "version": "3.10.13"
  },
  "orig_nbformat": 4,
  "vscode": {
   "interpreter": {
    "hash": "1a77adf363fa91e85443a9a41867ca44c328b7c0db03a012522dd20207d3f7f8"
   }
  }
 },
 "nbformat": 4,
 "nbformat_minor": 2
}
