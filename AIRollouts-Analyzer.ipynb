{
 "cells": [
  {
   "cell_type": "code",
   "execution_count": 6,
   "metadata": {},
   "outputs": [],
   "source": [
    "import json\n",
    "\n",
    "d1 = json.load(open('outputs/chatgpt_optimization_10rollouts.json'))\n",
    "d3 = json.load(open('outputs/chatgpt_optimization_20rollouts.json'))\n",
    "d2 = json.load(open('outputs/chatgpt_optimization_30rollouts.json'))\n",
    "d4 = json.load(open('outputs/chatgpt_optimization_40rollouts.json'))\n",
    "d = d1 + d2 + d3 + d4\n",
    "len(d)\n",
    "json.dump(d, open('outputs/chatgpt_optimization_100rollouts.json', 'w'), indent=2)"
   ]
  },
  {
   "cell_type": "code",
   "execution_count": 7,
   "metadata": {},
   "outputs": [
    {
     "name": "stdout",
     "output_type": "stream",
     "text": [
      "0.6095388194532662 0.10890769732944315\n"
     ]
    }
   ],
   "source": [
    "data = json.load(open('outputs/chatgpt_optimization_70rollouts.json'))\n",
    "\n",
    "import numpy as np\n",
    "scores = [d['score'] for d in data]\n",
    "print(np.average(scores), np.std(scores))"
   ]
  },
  {
   "cell_type": "code",
   "execution_count": 4,
   "metadata": {},
   "outputs": [
    {
     "name": "stdout",
     "output_type": "stream",
     "text": [
      "7.871428571428571 3.6797570904745815\n",
      "177.25714285714287 91.46547915771839\n"
     ]
    }
   ],
   "source": [
    "\n",
    "turns = []\n",
    "words = []\n",
    "for d in data:\n",
    "    num_turns = 0\n",
    "    num_words = 0\n",
    "    for t in d['dialog_history']:\n",
    "        message = t[10:].strip()\n",
    "        if message.startswith('[message]'):\n",
    "            num_turns += 1\n",
    "        if message.startswith('[message]'):\n",
    "            num_words += len(message.split()) - 1\n",
    "    turns.append(num_turns)\n",
    "    words.append(num_words)\n",
    "#turns = [len([t for t in d['dialog_history'] if t.startswith('[')]) for d in data]\n",
    "print(np.average(turns), np.std(turns))\n",
    "\n",
    "#words = [sum([len(t.split()) for t in d['dialog_history'] if t.startswith('[message]')]) for d in data]\n",
    "print(np.average(words), np.std(words))"
   ]
  },
  {
   "cell_type": "code",
   "execution_count": 5,
   "metadata": {},
   "outputs": [
    {
     "data": {
      "text/plain": [
       "['PLAYER-1: [message] It looks like we have a lot of information for BLEU and GloVe. Maybe we can start by assigning those papers first. What do you think?',\n",
       " \"PLAYER-2: [message] I agree, let's start with BLEU and GloVe. Who do you think would be the best fit for each of those papers?\",\n",
       " 'PLAYER-1: [message] I think Daniel Nguyen would be a good fit for BLEU and Sofia Patel for GloVe. What do you think?',\n",
       " 'PLAYER-2: [propose] Proposal:<br/>- BLEU: Daniel Nguyen<br/>- GloVe: Sofia Patel',\n",
       " 'PLAYER-2: [propose] Proposal:<br/>- BLEU: Daniel Nguyen<br/>- GloVe: Sofia Patel<br/>- GLUE: Joseph Santos<br/>- Electra: Ethan Smith<br/>- LLaMA: Ava Li<br/>- RoBERTa: Morgan Reed<br/>- QuAC: Noah Wilson<br/>- SWAG: Andrei Petrov',\n",
       " 'PLAYER-1: [reject]',\n",
       " \"PLAYER-1: [message] It seems like we didn't reach an agreement on the previous proposal. Let's try to adjust our assignments. Would you like to reconsider the reviewers for BLEU and GloVe?\",\n",
       " 'PLAYER-2: [message] Maybe we can reconsider the reviewers for BLEU and GloVe. What do you think?',\n",
       " 'PLAYER-1: [message] Who do you think would be the best fit for BLEU and GloVe?',\n",
       " 'PLAYER-2: [propose] Proposal:<br/>- BLEU: Joseph Santos<br/>- GloVe: Noah Wilson<br/>- GLUE: Daniel Nguyen<br/>- Electra: Ethan Smith<br/>- LLaMA: Ava Li<br/>- RoBERTa: Morgan Reed<br/>- QuAC: Sofia Patel<br/>- SWAG: Andrei Petrov',\n",
       " 'PLAYER-1: [reject]',\n",
       " \"PLAYER-1: [message] It seems like we're having trouble reaching an agreement on the assignments. Let's try to adjust our choices. What do you think about the reviewers for BLEU and GloVe?\",\n",
       " 'PLAYER-2: [message] Maybe we can focus on finding the best fit for BLEU and GloVe first. What are your thoughts on those papers?',\n",
       " 'PLAYER-1: [message] I think Daniel Nguyen would be a good fit for BLEU and Sofia Patel for GloVe. What do you think?',\n",
       " 'PLAYER-2: [propose] Proposal:<br/>- BLEU: Daniel Nguyen<br/>- GloVe: Sofia Patel<br/>- GLUE: Joseph Santos<br/>- Electra: Ethan Smith<br/>- LLaMA: Ava Li<br/>- RoBERTa: Morgan Reed<br/>- QuAC: Noah Wilson<br/>- SWAG: Andrei Petrov',\n",
       " 'PLAYER-1: [accept]']"
      ]
     },
     "execution_count": 5,
     "metadata": {},
     "output_type": "execute_result"
    }
   ],
   "source": [
    "data[0]['dialog_history']"
   ]
  },
  {
   "cell_type": "code",
   "execution_count": null,
   "metadata": {},
   "outputs": [],
   "source": [
    "human_words_distr = [492, 225, 107, 269, 146, 223, 158, 64, 267, 48, 180, 619, 224, 199, 82, 174, 167, 127, 88, 484, 284, 376, 31, 49, 187, 53, 239, 402, 56, 105, 206, 254, 104, 174, 41, 257, 56, 153, 179, 137, 46, 121, 558, 86, 143, 268, 555, 154, 140, 64, 140, 89, 98, 53, 183, 151, 60, 48, 117, 217, 95, 83, 114, 326, 191, 129, 135, 376, 147, 328]\n",
    "\n",
    "import matplotlib.pyplot as plt\n"
   ]
  }
 ],
 "metadata": {
  "kernelspec": {
   "display_name": "Python 3.10.13 ('dialop')",
   "language": "python",
   "name": "python3"
  },
  "language_info": {
   "codemirror_mode": {
    "name": "ipython",
    "version": 3
   },
   "file_extension": ".py",
   "mimetype": "text/x-python",
   "name": "python",
   "nbconvert_exporter": "python",
   "pygments_lexer": "ipython3",
   "version": "3.10.13"
  },
  "orig_nbformat": 4,
  "vscode": {
   "interpreter": {
    "hash": "1a77adf363fa91e85443a9a41867ca44c328b7c0db03a012522dd20207d3f7f8"
   }
  }
 },
 "nbformat": 4,
 "nbformat_minor": 2
}
